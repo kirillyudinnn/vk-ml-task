{
 "cells": [
  {
   "cell_type": "code",
   "execution_count": 1,
   "id": "22065545",
   "metadata": {},
   "outputs": [],
   "source": [
    "import matplotlib.pyplot as plt\n",
    "import seaborn as sns\n",
    "import numpy as np\n",
    "import pandas as pd\n",
    "\n",
    "\n",
    "import json\n",
    "import ast\n",
    "\n",
    "from typing import List, Tuple, Union\n",
    "\n",
    "from catboost import CatBoostClassifier"
   ]
  },
  {
   "cell_type": "code",
   "execution_count": null,
   "id": "344e09df",
   "metadata": {},
   "outputs": [],
   "source": []
  },
  {
   "cell_type": "markdown",
   "id": "0910573f",
   "metadata": {},
   "source": [
    "# Предсказание пола пользователей\n",
    "    "
   ]
  },
  {
   "cell_type": "code",
   "execution_count": null,
   "id": "bfeff573",
   "metadata": {},
   "outputs": [],
   "source": []
  },
  {
   "cell_type": "code",
   "execution_count": 2,
   "id": "41c52c11",
   "metadata": {},
   "outputs": [],
   "source": [
    "path_to_data = r'./data/'"
   ]
  },
  {
   "cell_type": "code",
   "execution_count": 3,
   "id": "2f553a7e",
   "metadata": {},
   "outputs": [],
   "source": [
    "train_labels = pd.read_csv(path_to_data + \"train_labels.csv\", sep=';')\n",
    "train = pd.read_csv(path_to_data + \"train.csv\", sep=';')\n",
    "referer_vectors = pd.read_csv(path_to_data + \"referer_vectors.csv\", sep=';')\n",
    "geo_info = pd.read_csv(path_to_data + 'geo_info.csv', sep=';')\n",
    "test = pd.read_csv(path_to_data + 'test.csv', sep=';')"
   ]
  },
  {
   "cell_type": "markdown",
   "id": "9ced77e5",
   "metadata": {},
   "source": [
    "# train_labels"
   ]
  },
  {
   "cell_type": "code",
   "execution_count": 4,
   "id": "fffb8630",
   "metadata": {},
   "outputs": [
    {
     "data": {
      "text/plain": [
       "<Axes: xlabel='target', ylabel='proportion'>"
      ]
     },
     "execution_count": 4,
     "metadata": {},
     "output_type": "execute_result"
    },
    {
     "data": {
      "image/png": "[encoded data removed]",
      "text/plain": [
       "<Figure size 640x480 with 1 Axes>"
      ]
     },
     "metadata": {},
     "output_type": "display_data"
    }
   ],
   "source": [
    "sns.barplot(\n",
    "    train_labels['target'].value_counts(normalize=True)\n",
    ")"
   ]
  },
  {
   "cell_type": "code",
   "execution_count": 5,
   "id": "a0487e4e",
   "metadata": {},
   "outputs": [
    {
     "data": {
      "text/plain": [
       "(500000, (500000, 2))"
      ]
     },
     "execution_count": 5,
     "metadata": {},
     "output_type": "execute_result"
    }
   ],
   "source": [
    "train_labels['user_id'].nunique(), train_labels.shape"
   ]
  },
  {
   "cell_type": "code",
   "execution_count": null,
   "id": "408e1dfe",
   "metadata": {},
   "outputs": [],
   "source": []
  },
  {
   "cell_type": "markdown",
   "id": "d2a15d09",
   "metadata": {},
   "source": [
    "# train"
   ]
  },
  {
   "cell_type": "code",
   "execution_count": 6,
   "id": "879702df",
   "metadata": {},
   "outputs": [
    {
     "data": {
      "text/html": [
       "<div>\n",
       "<style scoped>\n",
       "    .dataframe tbody tr th:only-of-type {\n",
       "        vertical-align: middle;\n",
       "    }\n",
       "\n",
       "    .dataframe tbody tr th {\n",
       "        vertical-align: top;\n",
       "    }\n",
       "\n",
       "    .dataframe thead th {\n",
       "        text-align: right;\n",
       "    }\n",
       "</style>\n",
       "<table border=\"1\" class=\"dataframe\">\n",
       "  <thead>\n",
       "    <tr style=\"text-align: right;\">\n",
       "      <th></th>\n",
       "      <th>request_ts</th>\n",
       "      <th>user_id</th>\n",
       "      <th>referer</th>\n",
       "      <th>geo_id</th>\n",
       "      <th>user_agent</th>\n",
       "    </tr>\n",
       "  </thead>\n",
       "  <tbody>\n",
       "    <tr>\n",
       "      <th>0</th>\n",
       "      <td>1701011363</td>\n",
       "      <td>fb858e8e0a2bec074450eaf94b627fd3</td>\n",
       "      <td>https://9b48ee5/</td>\n",
       "      <td>4799</td>\n",
       "      <td>{'browser': 'Chrome Mobile', 'browser_version'...</td>\n",
       "    </tr>\n",
       "    <tr>\n",
       "      <th>1</th>\n",
       "      <td>1700986581</td>\n",
       "      <td>46a5f128fd569c764a92c2eaa788095e</td>\n",
       "      <td>https://9b48ee5/</td>\n",
       "      <td>8257</td>\n",
       "      <td>{'browser': 'Chrome Mobile', 'browser_version'...</td>\n",
       "    </tr>\n",
       "    <tr>\n",
       "      <th>2</th>\n",
       "      <td>1701011071</td>\n",
       "      <td>5a74e9ac53ffb21a20cce117c0ad77ba</td>\n",
       "      <td>https://9634fd0/1409e548</td>\n",
       "      <td>3150</td>\n",
       "      <td>{'browser': 'Yandex Browser', 'browser_version...</td>\n",
       "    </tr>\n",
       "    <tr>\n",
       "      <th>3</th>\n",
       "      <td>1700992803</td>\n",
       "      <td>af735816ca19115431ae3d89518c8c91</td>\n",
       "      <td>https://9b48ee5/</td>\n",
       "      <td>2740</td>\n",
       "      <td>{'browser': 'Chrome Mobile', 'browser_version'...</td>\n",
       "    </tr>\n",
       "    <tr>\n",
       "      <th>4</th>\n",
       "      <td>1701021666</td>\n",
       "      <td>364f0ae0a3f29a685c4fb5bae6033b9a</td>\n",
       "      <td>https://9b48ee5/</td>\n",
       "      <td>4863</td>\n",
       "      <td>{'browser': 'Yandex Browser', 'browser_version...</td>\n",
       "    </tr>\n",
       "  </tbody>\n",
       "</table>\n",
       "</div>"
      ],
      "text/plain": [
       "   request_ts                           user_id                   referer  \\\n",
       "0  1701011363  fb858e8e0a2bec074450eaf94b627fd3          https://9b48ee5/   \n",
       "1  1700986581  46a5f128fd569c764a92c2eaa788095e          https://9b48ee5/   \n",
       "2  1701011071  5a74e9ac53ffb21a20cce117c0ad77ba  https://9634fd0/1409e548   \n",
       "3  1700992803  af735816ca19115431ae3d89518c8c91          https://9b48ee5/   \n",
       "4  1701021666  364f0ae0a3f29a685c4fb5bae6033b9a          https://9b48ee5/   \n",
       "\n",
       "   geo_id                                         user_agent  \n",
       "0    4799  {'browser': 'Chrome Mobile', 'browser_version'...  \n",
       "1    8257  {'browser': 'Chrome Mobile', 'browser_version'...  \n",
       "2    3150  {'browser': 'Yandex Browser', 'browser_version...  \n",
       "3    2740  {'browser': 'Chrome Mobile', 'browser_version'...  \n",
       "4    4863  {'browser': 'Yandex Browser', 'browser_version...  "
      ]
     },
     "execution_count": 6,
     "metadata": {},
     "output_type": "execute_result"
    }
   ],
   "source": [
    "train.head()"
   ]
  },
  {
   "cell_type": "code",
   "execution_count": 7,
   "id": "864c6c74",
   "metadata": {},
   "outputs": [],
   "source": [
    "train['event_datetime'] = pd.to_datetime(train['request_ts'], unit='s')"
   ]
  },
  {
   "cell_type": "code",
   "execution_count": 8,
   "id": "a1bf2615",
   "metadata": {},
   "outputs": [
    {
     "data": {
      "text/plain": [
       "655672"
      ]
     },
     "execution_count": 8,
     "metadata": {},
     "output_type": "execute_result"
    }
   ],
   "source": [
    "train['user_id'].nunique()"
   ]
  },
  {
   "cell_type": "code",
   "execution_count": 9,
   "id": "51df5138",
   "metadata": {},
   "outputs": [],
   "source": [
    "users_with_label = set(train_labels['user_id'].values)\n",
    "\n",
    "unknown_users_mask = ~train['user_id'].isin(users_with_label)"
   ]
  },
  {
   "cell_type": "code",
   "execution_count": 10,
   "id": "1e183129",
   "metadata": {},
   "outputs": [
    {
     "name": "stdout",
     "output_type": "stream",
     "text": [
      "Нет разметки для 155672 пользователей\n"
     ]
    }
   ],
   "source": [
    "unknown_users_data = train[unknown_users_mask].copy()\n",
    "labeled_train = train[~unknown_users_mask].copy()\n",
    "n_unknown_users = unknown_users_data['user_id'].nunique()\n",
    "\n",
    "print(f'Нет разметки для {n_unknown_users} пользователей')\n"
   ]
  },
  {
   "cell_type": "code",
   "execution_count": 11,
   "id": "5c4e44c5",
   "metadata": {},
   "outputs": [
    {
     "data": {
      "text/plain": [
       "0.23742358984370235"
      ]
     },
     "execution_count": 11,
     "metadata": {},
     "output_type": "execute_result"
    }
   ],
   "source": [
    "n_unknown_users / train['user_id'].nunique()"
   ]
  },
  {
   "cell_type": "code",
   "execution_count": 12,
   "id": "b7675fa2",
   "metadata": {},
   "outputs": [
    {
     "data": {
      "text/plain": [
       "count    655672.000000\n",
       "mean          1.143865\n",
       "std           0.414615\n",
       "min           1.000000\n",
       "25%           1.000000\n",
       "50%           1.000000\n",
       "75%           1.000000\n",
       "max           7.000000\n",
       "Name: count, dtype: float64"
      ]
     },
     "execution_count": 12,
     "metadata": {},
     "output_type": "execute_result"
    },
    {
     "data": {
      "image/png": "[encoded data removed]",
      "text/plain": [
       "<Figure size 640x480 with 1 Axes>"
      ]
     },
     "metadata": {},
     "output_type": "display_data"
    }
   ],
   "source": [
    "sns.boxplot(\n",
    "    train['user_id'].value_counts().values\n",
    ").set_title('Количество записей на пользователя')\n",
    "train['user_id'].value_counts().describe()"
   ]
  },
  {
   "cell_type": "code",
   "execution_count": 13,
   "id": "4cc41c60",
   "metadata": {},
   "outputs": [
    {
     "data": {
      "text/plain": [
       "user_id\n",
       "07bbc8de94ab7e98325986869cc193c8    7\n",
       "468df2b66e13dfa52192cfef2e961880    7\n",
       "9c5caf43abde0d08e13ec53be6ac7f43    6\n",
       "535708105da0f22a38f3c72efc7a2c53    6\n",
       "b4f31612e14086874aadcbf6eb00ea2e    6\n",
       "                                   ..\n",
       "75b74180b8dc181d3ce057c16e446507    2\n",
       "23f6492ee18f3fff527dd7c5997caa40    2\n",
       "c8817b926c65dc019b032e958cf7ddcb    2\n",
       "3eab1762d180e7833dd05dfc1d7fedfd    2\n",
       "faf55046685319500853f305bccaf113    2\n",
       "Name: count, Length: 80412, dtype: int64"
      ]
     },
     "execution_count": 13,
     "metadata": {},
     "output_type": "execute_result"
    }
   ],
   "source": [
    "user_vc = train['user_id'].value_counts()\n",
    "user_vc[user_vc > 1]"
   ]
  },
  {
   "cell_type": "code",
   "execution_count": 14,
   "id": "d4dc9336",
   "metadata": {},
   "outputs": [
    {
     "data": {
      "text/html": [
       "<div>\n",
       "<style scoped>\n",
       "    .dataframe tbody tr th:only-of-type {\n",
       "        vertical-align: middle;\n",
       "    }\n",
       "\n",
       "    .dataframe tbody tr th {\n",
       "        vertical-align: top;\n",
       "    }\n",
       "\n",
       "    .dataframe thead th {\n",
       "        text-align: right;\n",
       "    }\n",
       "</style>\n",
       "<table border=\"1\" class=\"dataframe\">\n",
       "  <thead>\n",
       "    <tr style=\"text-align: right;\">\n",
       "      <th></th>\n",
       "      <th>request_ts</th>\n",
       "      <th>user_id</th>\n",
       "      <th>referer</th>\n",
       "      <th>geo_id</th>\n",
       "      <th>user_agent</th>\n",
       "      <th>event_datetime</th>\n",
       "    </tr>\n",
       "  </thead>\n",
       "  <tbody>\n",
       "    <tr>\n",
       "      <th>28687</th>\n",
       "      <td>1700947500</td>\n",
       "      <td>535708105da0f22a38f3c72efc7a2c53</td>\n",
       "      <td>https://7a4c700/17846d28</td>\n",
       "      <td>3663</td>\n",
       "      <td>{'browser': 'Chrome Mobile', 'browser_version'...</td>\n",
       "      <td>2023-11-25 21:25:00</td>\n",
       "    </tr>\n",
       "    <tr>\n",
       "      <th>73318</th>\n",
       "      <td>1700947400</td>\n",
       "      <td>535708105da0f22a38f3c72efc7a2c53</td>\n",
       "      <td>https://7a4c700/1734cfc5</td>\n",
       "      <td>3663</td>\n",
       "      <td>{'browser': 'Chrome Mobile', 'browser_version'...</td>\n",
       "      <td>2023-11-25 21:23:20</td>\n",
       "    </tr>\n",
       "    <tr>\n",
       "      <th>173282</th>\n",
       "      <td>1700947510</td>\n",
       "      <td>535708105da0f22a38f3c72efc7a2c53</td>\n",
       "      <td>https://7a4c700/17846d28</td>\n",
       "      <td>3663</td>\n",
       "      <td>{'browser': 'Chrome Mobile', 'browser_version'...</td>\n",
       "      <td>2023-11-25 21:25:10</td>\n",
       "    </tr>\n",
       "    <tr>\n",
       "      <th>173290</th>\n",
       "      <td>1700947394</td>\n",
       "      <td>535708105da0f22a38f3c72efc7a2c53</td>\n",
       "      <td>https://7a4c700/17846d28</td>\n",
       "      <td>3663</td>\n",
       "      <td>{'browser': 'Chrome Mobile', 'browser_version'...</td>\n",
       "      <td>2023-11-25 21:23:14</td>\n",
       "    </tr>\n",
       "    <tr>\n",
       "      <th>266010</th>\n",
       "      <td>1700947481</td>\n",
       "      <td>535708105da0f22a38f3c72efc7a2c53</td>\n",
       "      <td>https://7a4c700/17846d28</td>\n",
       "      <td>3663</td>\n",
       "      <td>{'browser': 'Chrome Mobile', 'browser_version'...</td>\n",
       "      <td>2023-11-25 21:24:41</td>\n",
       "    </tr>\n",
       "    <tr>\n",
       "      <th>469348</th>\n",
       "      <td>1700946534</td>\n",
       "      <td>535708105da0f22a38f3c72efc7a2c53</td>\n",
       "      <td>https://abfc768/</td>\n",
       "      <td>3663</td>\n",
       "      <td>{'browser': 'Chrome Mobile', 'browser_version'...</td>\n",
       "      <td>2023-11-25 21:08:54</td>\n",
       "    </tr>\n",
       "  </tbody>\n",
       "</table>\n",
       "</div>"
      ],
      "text/plain": [
       "        request_ts                           user_id  \\\n",
       "28687   1700947500  535708105da0f22a38f3c72efc7a2c53   \n",
       "73318   1700947400  535708105da0f22a38f3c72efc7a2c53   \n",
       "173282  1700947510  535708105da0f22a38f3c72efc7a2c53   \n",
       "173290  1700947394  535708105da0f22a38f3c72efc7a2c53   \n",
       "266010  1700947481  535708105da0f22a38f3c72efc7a2c53   \n",
       "469348  1700946534  535708105da0f22a38f3c72efc7a2c53   \n",
       "\n",
       "                         referer  geo_id  \\\n",
       "28687   https://7a4c700/17846d28    3663   \n",
       "73318   https://7a4c700/1734cfc5    3663   \n",
       "173282  https://7a4c700/17846d28    3663   \n",
       "173290  https://7a4c700/17846d28    3663   \n",
       "266010  https://7a4c700/17846d28    3663   \n",
       "469348          https://abfc768/    3663   \n",
       "\n",
       "                                               user_agent      event_datetime  \n",
       "28687   {'browser': 'Chrome Mobile', 'browser_version'... 2023-11-25 21:25:00  \n",
       "73318   {'browser': 'Chrome Mobile', 'browser_version'... 2023-11-25 21:23:20  \n",
       "173282  {'browser': 'Chrome Mobile', 'browser_version'... 2023-11-25 21:25:10  \n",
       "173290  {'browser': 'Chrome Mobile', 'browser_version'... 2023-11-25 21:23:14  \n",
       "266010  {'browser': 'Chrome Mobile', 'browser_version'... 2023-11-25 21:24:41  \n",
       "469348  {'browser': 'Chrome Mobile', 'browser_version'... 2023-11-25 21:08:54  "
      ]
     },
     "execution_count": 14,
     "metadata": {},
     "output_type": "execute_result"
    }
   ],
   "source": [
    "train[train['user_id'] == '535708105da0f22a38f3c72efc7a2c53']"
   ]
  },
  {
   "cell_type": "code",
   "execution_count": 15,
   "id": "2b885e1a",
   "metadata": {},
   "outputs": [
    {
     "data": {
      "text/plain": [
       "Text(0.5, 1.0, \"Дубликаты на основе ['user_id', 'referer', 'geo_id', 'user_agent'] колонок\")"
      ]
     },
     "execution_count": 15,
     "metadata": {},
     "output_type": "execute_result"
    },
    {
     "data": {
      "image/png": "[encoded data removed]",
      "text/plain": [
       "<Figure size 640x480 with 1 Axes>"
      ]
     },
     "metadata": {},
     "output_type": "display_data"
    }
   ],
   "source": [
    "dupl_columns = ['user_id', 'referer', 'geo_id', 'user_agent']\n",
    "dupl_vc = train[dupl_columns].duplicated().value_counts(normalize=True)\n",
    "sns.barplot(\n",
    "    x=dupl_vc.index,\n",
    "    y=dupl_vc.values,\n",
    "    hue=dupl_vc.index,\n",
    "    legend=True,\n",
    ").set_title(f'Дубликаты на основе {dupl_columns} колонок')"
   ]
  },
  {
   "cell_type": "code",
   "execution_count": 16,
   "id": "da1aaefc",
   "metadata": {},
   "outputs": [
    {
     "data": {
      "text/plain": [
       "count    161345.000000\n",
       "mean          4.648424\n",
       "std         190.476792\n",
       "min           1.000000\n",
       "25%           1.000000\n",
       "50%           1.000000\n",
       "75%           1.000000\n",
       "max       43960.000000\n",
       "Name: count, dtype: float64"
      ]
     },
     "execution_count": 16,
     "metadata": {},
     "output_type": "execute_result"
    },
    {
     "data": {
      "image/png": "[encoded data removed]",
      "text/plain": [
       "<Figure size 640x480 with 1 Axes>"
      ]
     },
     "metadata": {},
     "output_type": "display_data"
    }
   ],
   "source": [
    "sns.boxplot(\n",
    "    train['referer'].value_counts()\n",
    ")\n",
    "train['referer'].value_counts().describe()"
   ]
  },
  {
   "cell_type": "code",
   "execution_count": 17,
   "id": "5caf7fc3",
   "metadata": {},
   "outputs": [
    {
     "data": {
      "text/plain": [
       "count      2962.000000\n",
       "mean        253.207292\n",
       "std        2680.318416\n",
       "min           1.000000\n",
       "25%           3.000000\n",
       "50%          10.000000\n",
       "75%          48.000000\n",
       "max      122438.000000\n",
       "Name: count, dtype: float64"
      ]
     },
     "execution_count": 17,
     "metadata": {},
     "output_type": "execute_result"
    }
   ],
   "source": [
    "train['geo_id'].value_counts().describe()"
   ]
  },
  {
   "cell_type": "code",
   "execution_count": 18,
   "id": "3628f5b1",
   "metadata": {},
   "outputs": [
    {
     "data": {
      "text/html": [
       "<div>\n",
       "<style scoped>\n",
       "    .dataframe tbody tr th:only-of-type {\n",
       "        vertical-align: middle;\n",
       "    }\n",
       "\n",
       "    .dataframe tbody tr th {\n",
       "        vertical-align: top;\n",
       "    }\n",
       "\n",
       "    .dataframe thead th {\n",
       "        text-align: right;\n",
       "    }\n",
       "</style>\n",
       "<table border=\"1\" class=\"dataframe\">\n",
       "  <thead>\n",
       "    <tr style=\"text-align: right;\">\n",
       "      <th></th>\n",
       "      <th>request_ts</th>\n",
       "      <th>user_id</th>\n",
       "      <th>referer</th>\n",
       "      <th>geo_id</th>\n",
       "      <th>user_agent</th>\n",
       "      <th>event_datetime</th>\n",
       "    </tr>\n",
       "  </thead>\n",
       "  <tbody>\n",
       "    <tr>\n",
       "      <th>201961</th>\n",
       "      <td>1700963692</td>\n",
       "      <td>d4f46399f48e08fb34d9d139aee1145c</td>\n",
       "      <td>https://b6630fd/</td>\n",
       "      <td>3871</td>\n",
       "      <td>NaN</td>\n",
       "      <td>2023-11-26 01:54:52</td>\n",
       "    </tr>\n",
       "  </tbody>\n",
       "</table>\n",
       "</div>"
      ],
      "text/plain": [
       "        request_ts                           user_id           referer  \\\n",
       "201961  1700963692  d4f46399f48e08fb34d9d139aee1145c  https://b6630fd/   \n",
       "\n",
       "        geo_id user_agent      event_datetime  \n",
       "201961    3871        NaN 2023-11-26 01:54:52  "
      ]
     },
     "execution_count": 18,
     "metadata": {},
     "output_type": "execute_result"
    }
   ],
   "source": [
    "train[train['user_agent'].isna()]"
   ]
  },
  {
   "cell_type": "code",
   "execution_count": 19,
   "id": "8782a4e6",
   "metadata": {},
   "outputs": [],
   "source": [
    "user_agent_nan_mask = train['user_agent'].isna()\n",
    "train.loc[user_agent_nan_mask, 'user_agent'] = '{}'"
   ]
  },
  {
   "cell_type": "code",
   "execution_count": 20,
   "id": "53b6ff85",
   "metadata": {},
   "outputs": [],
   "source": [
    "train['user_agent'] = train['user_agent'].apply(ast.literal_eval) # можно было бы использовать \n",
    "                                                                  # json.loads для ускорения,\n",
    "                                                                  # но ключи в одинарных кавычках"
   ]
  },
  {
   "cell_type": "code",
   "execution_count": 82,
   "id": "b77f726b",
   "metadata": {},
   "outputs": [],
   "source": [
    "train['domain'] = train['referer'].str.extract(r'https://([^/]+)')\n",
    "train['path'] = train['referer'].str.extract(r'https://[^/]+/(.*)')"
   ]
  },
  {
   "cell_type": "code",
   "execution_count": 22,
   "id": "379b7523",
   "metadata": {},
   "outputs": [
    {
     "data": {
      "text/plain": [
       "0         {'browser': 'Chrome Mobile', 'browser_version'...\n",
       "1         {'browser': 'Chrome Mobile', 'browser_version'...\n",
       "2         {'browser': 'Yandex Browser', 'browser_version...\n",
       "3         {'browser': 'Chrome Mobile', 'browser_version'...\n",
       "4         {'browser': 'Yandex Browser', 'browser_version...\n",
       "                                ...                        \n",
       "749995    {'browser': 'Opera', 'browser_version': '104.0...\n",
       "749996    {'browser': 'Yandex Browser', 'browser_version...\n",
       "749997    {'browser': 'Chrome Mobile', 'browser_version'...\n",
       "749998    {'browser': 'Chrome', 'browser_version': '118....\n",
       "749999    {'browser': 'Chrome', 'browser_version': '106....\n",
       "Name: user_agent, Length: 750000, dtype: object"
      ]
     },
     "execution_count": 22,
     "metadata": {},
     "output_type": "execute_result"
    }
   ],
   "source": [
    "train['user_agent']"
   ]
  },
  {
   "cell_type": "code",
   "execution_count": 23,
   "id": "ec00e428",
   "metadata": {},
   "outputs": [],
   "source": [
    "train['browser'] = train['user_agent'].str.get('browser')\n",
    "train['browser_version'] = train['user_agent'].str.get('browser_version')\n",
    "train['os'] = train['user_agent'].str.get('os')\n",
    "train['os_version'] = train['user_agent'].str.get('os_version')"
   ]
  },
  {
   "cell_type": "code",
   "execution_count": 24,
   "id": "fcd149cf",
   "metadata": {},
   "outputs": [
    {
     "data": {
      "text/plain": [
       "<Axes: ylabel='None'>"
      ]
     },
     "execution_count": 24,
     "metadata": {},
     "output_type": "execute_result"
    },
    {
     "data": {
      "image/png": "[encoded data removed]",
      "text/plain": [
       "<Figure size 640x480 with 1 Axes>"
      ]
     },
     "metadata": {},
     "output_type": "display_data"
    }
   ],
   "source": [
    "cols_na_vc = train.isna().sum()\n",
    "sns.barplot(\n",
    "    y=cols_na_vc.index,\n",
    "    x=cols_na_vc.values\n",
    ")"
   ]
  },
  {
   "cell_type": "code",
   "execution_count": 25,
   "id": "381b8623",
   "metadata": {},
   "outputs": [
    {
     "data": {
      "text/plain": [
       "browser\n",
       "Chrome Mobile                 258726\n",
       "Chrome                        203850\n",
       "Yandex Browser                143570\n",
       "Chrome Mobile WebView          32448\n",
       "YandexSearch                   25521\n",
       "Edge                           20811\n",
       "Opera                          17573\n",
       "Mobile Safari                  14283\n",
       "Firefox                         7861\n",
       "MiuiBrowser                     6116\n",
       "Samsung Internet                5135\n",
       "Safari                          3298\n",
       "Opera Mobile                    2764\n",
       "Mobile Safari UI/WKWebView      2571\n",
       "Facebook                        1539\n",
       "Chrome Mobile iOS               1317\n",
       "Google                           610\n",
       "Mail.ru Chromium Browser         448\n",
       "Instagram                        382\n",
       "UC Browser                       297\n",
       "Edge Mobile                      169\n",
       "Firefox Mobile                   159\n",
       "Pinterest                         87\n",
       "Iron                              58\n",
       "Maxthon                           44\n",
       "IE                                41\n",
       "YandexModule2                     37\n",
       "Flipboard                         35\n",
       "Amazon Silk                       34\n",
       "Phantom                           29\n",
       "HeadlessChrome                    28\n",
       "Mint Browser                      20\n",
       "Apple Mail                        16\n",
       "Electron                          16\n",
       "Opera Mini                        15\n",
       "Pale Moon                         11\n",
       "Puffin                             9\n",
       "Android                            8\n",
       "Other                              7\n",
       "DuckDuckGo Mobile                  6\n",
       "Firefox iOS                        6\n",
       "QQ Browser                         4\n",
       "Opera Coast                        4\n",
       "Sogou Explorer                     4\n",
       "Chromium                           4\n",
       "SeaMonkey                          4\n",
       "WebKit Nightly                     3\n",
       "Whale                              3\n",
       "Seznam prohlížeč                   3\n",
       "IE Mobile                          2\n",
       "Dragon                             2\n",
       "Bot                                2\n",
       "QQ Browser Mobile                  2\n",
       "Vivaldi                            2\n",
       "Crosswalk                          1\n",
       "Flipboard-Briefing                 1\n",
       "Waterfox                           1\n",
       "Bytespider                         1\n",
       "Basilisk                           1\n",
       "Name: count, dtype: int64"
      ]
     },
     "execution_count": 25,
     "metadata": {},
     "output_type": "execute_result"
    }
   ],
   "source": [
    "train['browser'].value_counts()"
   ]
  },
  {
   "cell_type": "code",
   "execution_count": 26,
   "id": "7a8a697d",
   "metadata": {},
   "outputs": [
    {
     "data": {
      "text/plain": [
       "browser\n",
       "Amazon Silk                     5\n",
       "Android                         5\n",
       "Apple Mail                      1\n",
       "Basilisk                        1\n",
       "Bot                             1\n",
       "Bytespider                      1\n",
       "Chrome                        155\n",
       "Chrome Mobile                 141\n",
       "Chrome Mobile WebView          80\n",
       "Chrome Mobile iOS              53\n",
       "Chromium                        3\n",
       "Crosswalk                       1\n",
       "Dragon                          2\n",
       "DuckDuckGo Mobile               2\n",
       "Edge                           50\n",
       "Edge Mobile                    18\n",
       "Electron                        2\n",
       "Facebook                       74\n",
       "Firefox                        74\n",
       "Firefox Mobile                 30\n",
       "Firefox iOS                     4\n",
       "Flipboard                       9\n",
       "Flipboard-Briefing              1\n",
       "Google                        106\n",
       "HeadlessChrome                  5\n",
       "IE                              4\n",
       "IE Mobile                       1\n",
       "Instagram                      39\n",
       "Iron                           28\n",
       "Mail.ru Chromium Browser       10\n",
       "Maxthon                         8\n",
       "Mint Browser                    2\n",
       "MiuiBrowser                   136\n",
       "Mobile Safari                  61\n",
       "Mobile Safari UI/WKWebView      2\n",
       "Opera                         130\n",
       "Opera Coast                     1\n",
       "Opera Mini                      3\n",
       "Opera Mobile                  115\n",
       "Other                           1\n",
       "Pale Moon                       7\n",
       "Phantom                        12\n",
       "Pinterest                       1\n",
       "Puffin                          4\n",
       "QQ Browser                      2\n",
       "QQ Browser Mobile               1\n",
       "Safari                         56\n",
       "Samsung Internet               44\n",
       "SeaMonkey                       2\n",
       "Seznam prohlížeč                2\n",
       "Sogou Explorer                  1\n",
       "UC Browser                     25\n",
       "Vivaldi                         2\n",
       "Waterfox                        1\n",
       "WebKit Nightly                  1\n",
       "Whale                           1\n",
       "Yandex Browser                303\n",
       "YandexModule2                   1\n",
       "YandexSearch                  153\n",
       "Name: browser_version, dtype: int64"
      ]
     },
     "execution_count": 26,
     "metadata": {},
     "output_type": "execute_result"
    }
   ],
   "source": [
    "train.groupby('browser')['browser_version'].nunique()"
   ]
  },
  {
   "cell_type": "code",
   "execution_count": 27,
   "id": "d006d991",
   "metadata": {},
   "outputs": [
    {
     "data": {
      "text/plain": [
       "os\n",
       "Android          510152\n",
       "Windows          205923\n",
       "iOS               21691\n",
       "Mac OS X           7318\n",
       "Linux              3728\n",
       "Tizen               848\n",
       "Ubuntu              149\n",
       "Chrome OS           148\n",
       "Windows Phone        13\n",
       "Other                11\n",
       "FreeBSD               8\n",
       "Chromecast            7\n",
       "Fedora                3\n",
       "Name: count, dtype: int64"
      ]
     },
     "execution_count": 27,
     "metadata": {},
     "output_type": "execute_result"
    }
   ],
   "source": [
    "train['os'].value_counts()"
   ]
  },
  {
   "cell_type": "code",
   "execution_count": 28,
   "id": "b28fd24c",
   "metadata": {},
   "outputs": [],
   "source": [
    "train['event_hour'] = train['event_datetime'].dt.hour\n",
    "train['event_day'] = train['event_datetime'].dt.dayofweek"
   ]
  },
  {
   "cell_type": "code",
   "execution_count": 29,
   "id": "196f658f",
   "metadata": {},
   "outputs": [
    {
     "data": {
      "text/plain": [
       "<Axes: xlabel='count', ylabel='event_hour'>"
      ]
     },
     "execution_count": 29,
     "metadata": {},
     "output_type": "execute_result"
    },
    {
     "data": {
      "image/png": "[encoded data removed]",
      "text/plain": [
       "<Figure size 640x480 with 1 Axes>"
      ]
     },
     "metadata": {},
     "output_type": "display_data"
    }
   ],
   "source": [
    "sns.countplot(\n",
    "    train['event_hour'].astype(str)\n",
    ")"
   ]
  },
  {
   "cell_type": "code",
   "execution_count": 30,
   "id": "bed56266",
   "metadata": {},
   "outputs": [
    {
     "data": {
      "text/plain": [
       "<Axes: xlabel='count', ylabel='event_day'>"
      ]
     },
     "execution_count": 30,
     "metadata": {},
     "output_type": "execute_result"
    },
    {
     "data": {
      "image/png": "[encoded data removed]",
      "text/plain": [
       "<Figure size 640x480 with 1 Axes>"
      ]
     },
     "metadata": {},
     "output_type": "display_data"
    }
   ],
   "source": [
    "sns.countplot(\n",
    "    train['event_day'].astype(str)\n",
    ") # без учета time_zone скорее всего только воскресенье в данных"
   ]
  },
  {
   "cell_type": "markdown",
   "id": "c97754c4",
   "metadata": {},
   "source": [
    "    Что можно сказать:\n",
    "    - Есть пользователи без разметки, скорее всего их сессии можно использовать для извлечения дополнительной\n",
    "        информации на основе остальных таблиц\n",
    "    - Есть повторные записи, вероятно с небольшой разницей во времени: необходимо предобрабатывать сырые логи,\n",
    "        удаляя дубликаты, чтобы подготовить чистые данные. В этом наборе таких случаев не много.\n",
    "    - Для большинства пользователей имеется всего одна сессия\n",
    "    - Баланс классов практически 50/50\n",
    "    - Есть эзотерические браузеры (может это сессии из автомобиля или с микроволновки – неизвестно), необходимо\n",
    "        собрать сет из основных браузеров и несовпадения определять как \"Другое\", чтобы не падал инференс\n",
    "    - Тоже самое по ОС\n",
    "    - Собраны данные только за один день. Сплит будем делать только по user_id без учета времени\n",
    "    "
   ]
  },
  {
   "cell_type": "code",
   "execution_count": null,
   "id": "3ec9666a",
   "metadata": {},
   "outputs": [],
   "source": []
  },
  {
   "cell_type": "markdown",
   "id": "ce4273c1",
   "metadata": {},
   "source": [
    "# referer_vectors"
   ]
  },
  {
   "cell_type": "code",
   "execution_count": 31,
   "id": "478dbe47",
   "metadata": {},
   "outputs": [
    {
     "data": {
      "text/html": [
       "<div>\n",
       "<style scoped>\n",
       "    .dataframe tbody tr th:only-of-type {\n",
       "        vertical-align: middle;\n",
       "    }\n",
       "\n",
       "    .dataframe tbody tr th {\n",
       "        vertical-align: top;\n",
       "    }\n",
       "\n",
       "    .dataframe thead th {\n",
       "        text-align: right;\n",
       "    }\n",
       "</style>\n",
       "<table border=\"1\" class=\"dataframe\">\n",
       "  <thead>\n",
       "    <tr style=\"text-align: right;\">\n",
       "      <th></th>\n",
       "      <th>component0</th>\n",
       "      <th>component1</th>\n",
       "      <th>component2</th>\n",
       "      <th>component3</th>\n",
       "      <th>component4</th>\n",
       "      <th>component5</th>\n",
       "      <th>component6</th>\n",
       "      <th>component7</th>\n",
       "      <th>component8</th>\n",
       "      <th>component9</th>\n",
       "      <th>referer</th>\n",
       "    </tr>\n",
       "  </thead>\n",
       "  <tbody>\n",
       "    <tr>\n",
       "      <th>0</th>\n",
       "      <td>16708</td>\n",
       "      <td>-3741</td>\n",
       "      <td>11395</td>\n",
       "      <td>-1597</td>\n",
       "      <td>-3212</td>\n",
       "      <td>6269</td>\n",
       "      <td>5610</td>\n",
       "      <td>-15351</td>\n",
       "      <td>13779</td>\n",
       "      <td>14102</td>\n",
       "      <td>https://a6899a4/15652e67</td>\n",
       "    </tr>\n",
       "    <tr>\n",
       "      <th>1</th>\n",
       "      <td>11731</td>\n",
       "      <td>4045</td>\n",
       "      <td>22213</td>\n",
       "      <td>-1184</td>\n",
       "      <td>-8992</td>\n",
       "      <td>9381</td>\n",
       "      <td>-3496</td>\n",
       "      <td>-3120</td>\n",
       "      <td>-899</td>\n",
       "      <td>16817</td>\n",
       "      <td>https://9b48ee5/</td>\n",
       "    </tr>\n",
       "    <tr>\n",
       "      <th>2</th>\n",
       "      <td>10551</td>\n",
       "      <td>2947</td>\n",
       "      <td>12282</td>\n",
       "      <td>-470</td>\n",
       "      <td>16222</td>\n",
       "      <td>4472</td>\n",
       "      <td>-3316</td>\n",
       "      <td>9606</td>\n",
       "      <td>4197</td>\n",
       "      <td>18948</td>\n",
       "      <td>https://7a4c700/161af7e3</td>\n",
       "    </tr>\n",
       "    <tr>\n",
       "      <th>3</th>\n",
       "      <td>12816</td>\n",
       "      <td>20498</td>\n",
       "      <td>-10110</td>\n",
       "      <td>7731</td>\n",
       "      <td>-569</td>\n",
       "      <td>12035</td>\n",
       "      <td>3014</td>\n",
       "      <td>6398</td>\n",
       "      <td>11439</td>\n",
       "      <td>-271</td>\n",
       "      <td>https://9653126/159bc361</td>\n",
       "    </tr>\n",
       "    <tr>\n",
       "      <th>4</th>\n",
       "      <td>3710</td>\n",
       "      <td>11096</td>\n",
       "      <td>11333</td>\n",
       "      <td>14673</td>\n",
       "      <td>8030</td>\n",
       "      <td>1852</td>\n",
       "      <td>10554</td>\n",
       "      <td>11625</td>\n",
       "      <td>4306</td>\n",
       "      <td>13210</td>\n",
       "      <td>https://72879b4/125c29e6</td>\n",
       "    </tr>\n",
       "  </tbody>\n",
       "</table>\n",
       "</div>"
      ],
      "text/plain": [
       "   component0  component1  component2  component3  component4  component5  \\\n",
       "0       16708       -3741       11395       -1597       -3212        6269   \n",
       "1       11731        4045       22213       -1184       -8992        9381   \n",
       "2       10551        2947       12282        -470       16222        4472   \n",
       "3       12816       20498      -10110        7731        -569       12035   \n",
       "4        3710       11096       11333       14673        8030        1852   \n",
       "\n",
       "   component6  component7  component8  component9                   referer  \n",
       "0        5610      -15351       13779       14102  https://a6899a4/15652e67  \n",
       "1       -3496       -3120        -899       16817          https://9b48ee5/  \n",
       "2       -3316        9606        4197       18948  https://7a4c700/161af7e3  \n",
       "3        3014        6398       11439        -271  https://9653126/159bc361  \n",
       "4       10554       11625        4306       13210  https://72879b4/125c29e6  "
      ]
     },
     "execution_count": 31,
     "metadata": {},
     "output_type": "execute_result"
    }
   ],
   "source": [
    "referer_vectors.head()"
   ]
  },
  {
   "cell_type": "code",
   "execution_count": 32,
   "id": "d262b3e2",
   "metadata": {},
   "outputs": [
    {
     "name": "stdout",
     "output_type": "stream",
     "text": [
      "<class 'pandas.core.frame.DataFrame'>\n",
      "RangeIndex: 200000 entries, 0 to 199999\n",
      "Data columns (total 11 columns):\n",
      " #   Column      Non-Null Count   Dtype \n",
      "---  ------      --------------   ----- \n",
      " 0   component0  200000 non-null  int64 \n",
      " 1   component1  200000 non-null  int64 \n",
      " 2   component2  200000 non-null  int64 \n",
      " 3   component3  200000 non-null  int64 \n",
      " 4   component4  200000 non-null  int64 \n",
      " 5   component5  200000 non-null  int64 \n",
      " 6   component6  200000 non-null  int64 \n",
      " 7   component7  200000 non-null  int64 \n",
      " 8   component8  200000 non-null  int64 \n",
      " 9   component9  200000 non-null  int64 \n",
      " 10  referer     200000 non-null  object\n",
      "dtypes: int64(10), object(1)\n",
      "memory usage: 16.8+ MB\n"
     ]
    }
   ],
   "source": [
    "referer_vectors.info()"
   ]
  },
  {
   "cell_type": "code",
   "execution_count": 33,
   "id": "778b6089",
   "metadata": {},
   "outputs": [],
   "source": [
    "domain_pattern = r'https://([^/]+)'\n",
    "path_pattern = r'https://[^/]+/(.*)'\n",
    "\n",
    "referer_vectors['domain'] = referer_vectors['referer'].str.extract(r'https://([^/]+)')\n",
    "referer_vectors['path'] = referer_vectors['referer'].str.extract(r'https://[^/]+/(.*)')"
   ]
  },
  {
   "cell_type": "code",
   "execution_count": 34,
   "id": "a24c036a",
   "metadata": {},
   "outputs": [],
   "source": [
    "referer_vectors_domain_unique = set(referer_vectors['domain'].unique())\n",
    "referer_vectors_path_unique = set(referer_vectors['path'].unique())\n",
    "\n",
    "\n",
    "train_domain_unique = set(train['domain'].unique())\n",
    "train_path_unique = set(train['path'].unique())"
   ]
  },
  {
   "cell_type": "code",
   "execution_count": 35,
   "id": "b81c7a75",
   "metadata": {},
   "outputs": [
    {
     "data": {
      "text/plain": [
       "(5862, 5394)"
      ]
     },
     "execution_count": 35,
     "metadata": {},
     "output_type": "execute_result"
    }
   ],
   "source": [
    "len(referer_vectors_domain_unique), len(train_domain_unique)"
   ]
  },
  {
   "cell_type": "code",
   "execution_count": 36,
   "id": "f27c1e30",
   "metadata": {},
   "outputs": [
    {
     "data": {
      "text/plain": [
       "(191051, 154589)"
      ]
     },
     "execution_count": 36,
     "metadata": {},
     "output_type": "execute_result"
    }
   ],
   "source": [
    "len(referer_vectors_path_unique), len(train_path_unique)"
   ]
  },
  {
   "cell_type": "code",
   "execution_count": 37,
   "id": "7cbb5c72",
   "metadata": {},
   "outputs": [
    {
     "name": "stdout",
     "output_type": "stream",
     "text": [
      "Есть domain данные 100.00%\n",
      "Есть path данные 100.00%\n"
     ]
    }
   ],
   "source": [
    "domain_cross = train_domain_unique.intersection(referer_vectors_domain_unique)\n",
    "path_cross = train_path_unique.intersection(referer_vectors_path_unique)\n",
    "\n",
    "domain_pc = len(domain_cross) / len(train_domain_unique)\n",
    "path_pc = len(path_cross) / len(train_path_unique)\n",
    "\n",
    "print(f'Есть domain данные {(100 * domain_pc):.2f}%')\n",
    "print(f'Есть path данные {(100 * path_pc):.2f}%')"
   ]
  },
  {
   "cell_type": "code",
   "execution_count": 38,
   "id": "2e66406d",
   "metadata": {},
   "outputs": [
    {
     "data": {
      "text/plain": [
       "domain\n",
       "6a81948    14412\n",
       "7e89575    11178\n",
       "62faeb4    10628\n",
       "72879b4     8697\n",
       "b5380d6     8300\n",
       "           ...  \n",
       "9ec29ba        1\n",
       "6a4ffd0        1\n",
       "865697f        1\n",
       "6468150        1\n",
       "8ada946        1\n",
       "Name: count, Length: 5862, dtype: int64"
      ]
     },
     "execution_count": 38,
     "metadata": {},
     "output_type": "execute_result"
    }
   ],
   "source": [
    "referer_vectors['domain'].value_counts()"
   ]
  },
  {
   "cell_type": "code",
   "execution_count": 39,
   "id": "dae0b009",
   "metadata": {},
   "outputs": [
    {
     "data": {
      "text/plain": [
       "path\n",
       "            2382\n",
       "11e1b335       2\n",
       "11e1b6f8       1\n",
       "11e1b77e       1\n",
       "11e1ba3c       1\n",
       "11e1bc20       1\n",
       "11e1bc42       1\n",
       "11e1c1f0       1\n",
       "11e1c1f3       1\n",
       "11e1c276       1\n",
       "Name: domain, dtype: int64"
      ]
     },
     "execution_count": 39,
     "metadata": {},
     "output_type": "execute_result"
    }
   ],
   "source": [
    "referer_vectors.groupby('path')['domain'].nunique().head(10).sort_values(ascending=False)"
   ]
  },
  {
   "cell_type": "code",
   "execution_count": 40,
   "id": "b632ce75",
   "metadata": {},
   "outputs": [
    {
     "data": {
      "text/html": [
       "<div>\n",
       "<style scoped>\n",
       "    .dataframe tbody tr th:only-of-type {\n",
       "        vertical-align: middle;\n",
       "    }\n",
       "\n",
       "    .dataframe tbody tr th {\n",
       "        vertical-align: top;\n",
       "    }\n",
       "\n",
       "    .dataframe thead th {\n",
       "        text-align: right;\n",
       "    }\n",
       "</style>\n",
       "<table border=\"1\" class=\"dataframe\">\n",
       "  <thead>\n",
       "    <tr style=\"text-align: right;\">\n",
       "      <th></th>\n",
       "      <th>component0</th>\n",
       "      <th>component1</th>\n",
       "      <th>component2</th>\n",
       "      <th>component3</th>\n",
       "      <th>component4</th>\n",
       "      <th>component5</th>\n",
       "      <th>component6</th>\n",
       "      <th>component7</th>\n",
       "      <th>component8</th>\n",
       "      <th>component9</th>\n",
       "      <th>referer</th>\n",
       "      <th>domain</th>\n",
       "      <th>path</th>\n",
       "    </tr>\n",
       "  </thead>\n",
       "  <tbody>\n",
       "    <tr>\n",
       "      <th>55689</th>\n",
       "      <td>20179</td>\n",
       "      <td>18396</td>\n",
       "      <td>-389</td>\n",
       "      <td>-798</td>\n",
       "      <td>1482</td>\n",
       "      <td>13760</td>\n",
       "      <td>3476</td>\n",
       "      <td>-444</td>\n",
       "      <td>7241</td>\n",
       "      <td>6973</td>\n",
       "      <td>https://a2e88d5/11e1b335</td>\n",
       "      <td>a2e88d5</td>\n",
       "      <td>11e1b335</td>\n",
       "    </tr>\n",
       "    <tr>\n",
       "      <th>74851</th>\n",
       "      <td>15223</td>\n",
       "      <td>14913</td>\n",
       "      <td>5437</td>\n",
       "      <td>3990</td>\n",
       "      <td>11632</td>\n",
       "      <td>13991</td>\n",
       "      <td>-1712</td>\n",
       "      <td>1081</td>\n",
       "      <td>9539</td>\n",
       "      <td>9178</td>\n",
       "      <td>https://a5ed9c5/11e1b335</td>\n",
       "      <td>a5ed9c5</td>\n",
       "      <td>11e1b335</td>\n",
       "    </tr>\n",
       "  </tbody>\n",
       "</table>\n",
       "</div>"
      ],
      "text/plain": [
       "       component0  component1  component2  component3  component4  component5  \\\n",
       "55689       20179       18396        -389        -798        1482       13760   \n",
       "74851       15223       14913        5437        3990       11632       13991   \n",
       "\n",
       "       component6  component7  component8  component9  \\\n",
       "55689        3476        -444        7241        6973   \n",
       "74851       -1712        1081        9539        9178   \n",
       "\n",
       "                        referer   domain      path  \n",
       "55689  https://a2e88d5/11e1b335  a2e88d5  11e1b335  \n",
       "74851  https://a5ed9c5/11e1b335  a5ed9c5  11e1b335  "
      ]
     },
     "execution_count": 40,
     "metadata": {},
     "output_type": "execute_result"
    }
   ],
   "source": [
    "referer_vectors[referer_vectors['path'] == '11e1b335']"
   ]
  },
  {
   "cell_type": "code",
   "execution_count": 41,
   "id": "68ab739f",
   "metadata": {},
   "outputs": [
    {
     "data": {
      "text/plain": [
       "domain\n",
       "5f5f345    1\n",
       "5f640e1    1\n",
       "5f6d727    1\n",
       "5f75205    1\n",
       "5f7dfb3    1\n",
       "5f7e3c9    1\n",
       "5f8cbb9    1\n",
       "5f93661    1\n",
       "5f942c2    1\n",
       "5f975b2    1\n",
       "Name: path, dtype: int64"
      ]
     },
     "execution_count": 41,
     "metadata": {},
     "output_type": "execute_result"
    }
   ],
   "source": [
    "mask = referer_vectors['path'] != ''\n",
    "referer_vectors[~mask].groupby('domain')['path'].nunique().head(10).sort_values(ascending=False)"
   ]
  },
  {
   "cell_type": "code",
   "execution_count": 42,
   "id": "fcceda3a",
   "metadata": {},
   "outputs": [
    {
     "data": {
      "text/plain": [
       "count    29223.000000\n",
       "mean         6.843924\n",
       "std         13.879860\n",
       "min          1.000000\n",
       "25%          2.000000\n",
       "50%          5.000000\n",
       "75%         10.000000\n",
       "max       1886.000000\n",
       "Name: count, dtype: float64"
      ]
     },
     "execution_count": 42,
     "metadata": {},
     "output_type": "execute_result"
    }
   ],
   "source": [
    "referer_vectors['component0'].value_counts().describe()"
   ]
  },
  {
   "cell_type": "code",
   "execution_count": 43,
   "id": "18c59dae",
   "metadata": {},
   "outputs": [
    {
     "data": {
      "text/plain": [
       "False    198844\n",
       "True       1156\n",
       "Name: count, dtype: int64"
      ]
     },
     "execution_count": 43,
     "metadata": {},
     "output_type": "execute_result"
    }
   ],
   "source": [
    "referer_vectors.duplicated().value_counts()"
   ]
  },
  {
   "cell_type": "markdown",
   "id": "9f2fc0c7",
   "metadata": {},
   "source": [
    "    Что можно сказать:\n",
    "    - join по двум ключам: domain и path. Если path не совпадает, то только по domain\n",
    "    - Есть path имеет несколько уникальных domain\n",
    "    - Есть дубликаты, нужно учесть перед join\n",
    "    - Пока непонятно как извлечь максимум из компонент, большинство из них довольно редко встречаются"
   ]
  },
  {
   "cell_type": "markdown",
   "id": "ee8d07b3",
   "metadata": {},
   "source": [
    "# geo_info"
   ]
  },
  {
   "cell_type": "code",
   "execution_count": 44,
   "id": "993e9bd6",
   "metadata": {},
   "outputs": [
    {
     "data": {
      "text/html": [
       "<div>\n",
       "<style scoped>\n",
       "    .dataframe tbody tr th:only-of-type {\n",
       "        vertical-align: middle;\n",
       "    }\n",
       "\n",
       "    .dataframe tbody tr th {\n",
       "        vertical-align: top;\n",
       "    }\n",
       "\n",
       "    .dataframe thead th {\n",
       "        text-align: right;\n",
       "    }\n",
       "</style>\n",
       "<table border=\"1\" class=\"dataframe\">\n",
       "  <thead>\n",
       "    <tr style=\"text-align: right;\">\n",
       "      <th></th>\n",
       "      <th>geo_id</th>\n",
       "      <th>country_id</th>\n",
       "      <th>region_id</th>\n",
       "      <th>timezone_id</th>\n",
       "    </tr>\n",
       "  </thead>\n",
       "  <tbody>\n",
       "    <tr>\n",
       "      <th>0</th>\n",
       "      <td>6447</td>\n",
       "      <td>c31b4e</td>\n",
       "      <td>470e75</td>\n",
       "      <td>f6155e</td>\n",
       "    </tr>\n",
       "    <tr>\n",
       "      <th>1</th>\n",
       "      <td>8730</td>\n",
       "      <td>a0a6e9</td>\n",
       "      <td>NaN</td>\n",
       "      <td>d816ca</td>\n",
       "    </tr>\n",
       "    <tr>\n",
       "      <th>2</th>\n",
       "      <td>7769</td>\n",
       "      <td>e878d4</td>\n",
       "      <td>NaN</td>\n",
       "      <td>ec4385</td>\n",
       "    </tr>\n",
       "    <tr>\n",
       "      <th>3</th>\n",
       "      <td>7330</td>\n",
       "      <td>c31b4e</td>\n",
       "      <td>23f9c2</td>\n",
       "      <td>f6155e</td>\n",
       "    </tr>\n",
       "    <tr>\n",
       "      <th>4</th>\n",
       "      <td>600</td>\n",
       "      <td>c31b4e</td>\n",
       "      <td>6dbc37</td>\n",
       "      <td>e56e80</td>\n",
       "    </tr>\n",
       "  </tbody>\n",
       "</table>\n",
       "</div>"
      ],
      "text/plain": [
       "   geo_id country_id region_id timezone_id\n",
       "0    6447     c31b4e    470e75      f6155e\n",
       "1    8730     a0a6e9       NaN      d816ca\n",
       "2    7769     e878d4       NaN      ec4385\n",
       "3    7330     c31b4e    23f9c2      f6155e\n",
       "4     600     c31b4e    6dbc37      e56e80"
      ]
     },
     "execution_count": 44,
     "metadata": {},
     "output_type": "execute_result"
    }
   ],
   "source": [
    "geo_info.head()"
   ]
  },
  {
   "cell_type": "code",
   "execution_count": 45,
   "id": "94471c80",
   "metadata": {},
   "outputs": [
    {
     "data": {
      "text/plain": [
       "0"
      ]
     },
     "execution_count": 45,
     "metadata": {},
     "output_type": "execute_result"
    }
   ],
   "source": [
    "geo_info.duplicated().sum()"
   ]
  },
  {
   "cell_type": "code",
   "execution_count": 46,
   "id": "fb380cd6",
   "metadata": {},
   "outputs": [
    {
     "name": "stdout",
     "output_type": "stream",
     "text": [
      "<class 'pandas.core.frame.DataFrame'>\n",
      "RangeIndex: 5533 entries, 0 to 5532\n",
      "Data columns (total 4 columns):\n",
      " #   Column       Non-Null Count  Dtype \n",
      "---  ------       --------------  ----- \n",
      " 0   geo_id       5533 non-null   int64 \n",
      " 1   country_id   5533 non-null   object\n",
      " 2   region_id    3826 non-null   object\n",
      " 3   timezone_id  5533 non-null   object\n",
      "dtypes: int64(1), object(3)\n",
      "memory usage: 173.0+ KB\n"
     ]
    }
   ],
   "source": [
    "geo_info.info()"
   ]
  },
  {
   "cell_type": "markdown",
   "id": "8d163ffc",
   "metadata": {},
   "source": [
    "    Ну тут все понятно"
   ]
  },
  {
   "cell_type": "code",
   "execution_count": null,
   "id": "b31d5a02",
   "metadata": {},
   "outputs": [],
   "source": []
  },
  {
   "cell_type": "markdown",
   "id": "85d22856",
   "metadata": {},
   "source": [
    "# Baseline (CatBoost)\n",
    "    В качестве бейзлайна предлагаю наджойнить фичи из таблиц и использовать компоненты/девайсы/браузеры как\n",
    "    категориальные фичи катбуста, т.к. он хорошо с этим справляется"
   ]
  },
  {
   "cell_type": "code",
   "execution_count": 47,
   "id": "2c66e357",
   "metadata": {},
   "outputs": [],
   "source": [
    "unknown_users_data = train[unknown_users_mask].copy()\n",
    "labeled_train = train[~unknown_users_mask].copy()"
   ]
  },
  {
   "cell_type": "code",
   "execution_count": 48,
   "id": "3b1ef156",
   "metadata": {},
   "outputs": [],
   "source": [
    "COLS_TO_USE = [\n",
    "    'geo_id',\n",
    "    'domain',\n",
    "    'path',\n",
    "    'browser',\n",
    "    'os',\n",
    "    'os_version',\n",
    "    'component0',\n",
    "    'component1',\n",
    "    'component2',\n",
    "    'component3',\n",
    "    'component4',\n",
    "    'component5',\n",
    "    'component6',\n",
    "    'component7',\n",
    "    'component8',\n",
    "    'component9',\n",
    "    'country_id',\n",
    "    'region_id',\n",
    "]"
   ]
  },
  {
   "cell_type": "code",
   "execution_count": 49,
   "id": "8376fa5a",
   "metadata": {},
   "outputs": [],
   "source": [
    "referer_vectors_dupl_index = referer_vectors[referer_vectors.duplicated()].index\n",
    "referer_vectors_no_dupl = referer_vectors.drop(referer_vectors_dupl_index).copy()"
   ]
  },
  {
   "cell_type": "code",
   "execution_count": 67,
   "id": "37f816c6",
   "metadata": {},
   "outputs": [],
   "source": [
    "df_train = labeled_train.merge(\n",
    "    referer_vectors_no_dupl.drop('referer', axis=1),\n",
    "    on=['domain', 'path'],\n",
    "    how='left'\n",
    ")\n",
    "\n",
    "df_train = df_train.merge(\n",
    "    geo_info,\n",
    "    on=['geo_id'],\n",
    "    how='left'\n",
    ")\n",
    "\n",
    "df_train = df_train.merge(\n",
    "    train_labels,\n",
    "    on='user_id',\n",
    ")\n",
    "\n",
    "df_train.fillna('', inplace=True)"
   ]
  },
  {
   "cell_type": "code",
   "execution_count": 68,
   "id": "071db430",
   "metadata": {},
   "outputs": [
    {
     "data": {
      "text/plain": [
       "request_ts         0\n",
       "user_id            0\n",
       "referer            0\n",
       "geo_id             0\n",
       "user_agent         0\n",
       "event_datetime     0\n",
       "domain             0\n",
       "path               0\n",
       "browser            0\n",
       "browser_version    0\n",
       "os                 0\n",
       "os_version         0\n",
       "event_hour         0\n",
       "event_day          0\n",
       "component0         0\n",
       "component1         0\n",
       "component2         0\n",
       "component3         0\n",
       "component4         0\n",
       "component5         0\n",
       "component6         0\n",
       "component7         0\n",
       "component8         0\n",
       "component9         0\n",
       "country_id         0\n",
       "region_id          0\n",
       "timezone_id        0\n",
       "target             0\n",
       "dtype: int64"
      ]
     },
     "execution_count": 68,
     "metadata": {},
     "output_type": "execute_result"
    }
   ],
   "source": [
    "df_train.isna().sum()"
   ]
  },
  {
   "cell_type": "code",
   "execution_count": 69,
   "id": "ea8e23e6",
   "metadata": {},
   "outputs": [
    {
     "data": {
      "text/plain": [
       "((593443, 28), (593443, 14))"
      ]
     },
     "execution_count": 69,
     "metadata": {},
     "output_type": "execute_result"
    }
   ],
   "source": [
    "df_train.shape, labeled_train.shape"
   ]
  },
  {
   "cell_type": "code",
   "execution_count": 70,
   "id": "f088b138",
   "metadata": {},
   "outputs": [],
   "source": [
    "def split_data_by_user_id(\n",
    "    user_ids: List[str],\n",
    "    train_size: float,\n",
    "    val_size: float,\n",
    "    test_size: float,\n",
    "    random_state: int = 21\n",
    ")-> Tuple[List[str], List[str], List[str]]:\n",
    "    assert np.isclose(train_size + val_size + test_size, 1.0), \"Сумма долей должна быть равна 1\"\n",
    "    \n",
    "    rng = np.random.RandomState(random_state)\n",
    "    shuffled_ids = rng.permutation(user_ids)\n",
    "    \n",
    "    n_total = len(user_ids)\n",
    "    n_train = int(n_total * train_size)\n",
    "    n_val = int(n_total * val_size)\n",
    "    \n",
    "    train_ids = shuffled_ids[:n_train]\n",
    "    val_ids = shuffled_ids[n_train : n_train + n_val]\n",
    "    test_ids = shuffled_ids[n_train + n_val:]\n",
    "    \n",
    "    return train_ids, val_ids, test_ids\n",
    "    "
   ]
  },
  {
   "cell_type": "code",
   "execution_count": 71,
   "id": "0e688245",
   "metadata": {},
   "outputs": [],
   "source": [
    "train_ids, val_ids, test_ids = split_data_by_user_id(\n",
    "    df_train['user_id'].unique(), \n",
    "    train_size = 0.7, \n",
    "    val_size = 0.1, \n",
    "    test_size = 0.2,\n",
    ")"
   ]
  },
  {
   "cell_type": "code",
   "execution_count": 72,
   "id": "a49f0462",
   "metadata": {},
   "outputs": [
    {
     "data": {
      "text/plain": [
       "((415312, 18), (415312, 2))"
      ]
     },
     "execution_count": 72,
     "metadata": {},
     "output_type": "execute_result"
    }
   ],
   "source": [
    "X_train = df_train[df_train['user_id'].isin(train_ids)].copy()\n",
    "y_train = X_train[['user_id','target']]\n",
    "X_train = X_train[COLS_TO_USE]\n",
    "\n",
    "X_val = df_train[df_train['user_id'].isin(val_ids)].copy()\n",
    "y_val = X_val[['user_id','target']]\n",
    "X_val = X_val[COLS_TO_USE]\n",
    "\n",
    "X_test = df_train[df_train['user_id'].isin(test_ids)].copy()\n",
    "y_test = X_test[['user_id','target']]\n",
    "X_test = X_test[COLS_TO_USE]\n",
    "\n",
    "X_train.shape, y_train.shape, "
   ]
  },
  {
   "cell_type": "code",
   "execution_count": 73,
   "id": "2589918f",
   "metadata": {},
   "outputs": [
    {
     "name": "stdout",
     "output_type": "stream",
     "text": [
      "Learning rate set to 0.282943\n",
      "0:\tlearn: 0.5920395\ttest: 0.5900319\tbest: 0.5900319 (0)\ttotal: 545ms\tremaining: 1m 48s\n",
      "50:\tlearn: 0.4196912\ttest: 0.4171520\tbest: 0.4171520 (50)\ttotal: 19.6s\tremaining: 57.3s\n",
      "100:\tlearn: 0.4148166\ttest: 0.4146951\tbest: 0.4146951 (100)\ttotal: 40.6s\tremaining: 39.8s\n",
      "150:\tlearn: 0.4122728\ttest: 0.4139349\tbest: 0.4139349 (150)\ttotal: 1m 1s\tremaining: 19.9s\n",
      "199:\tlearn: 0.4103654\ttest: 0.4137770\tbest: 0.4137770 (199)\ttotal: 1m 29s\tremaining: 0us\n",
      "\n",
      "bestTest = 0.4137770198\n",
      "bestIteration = 199\n",
      "\n"
     ]
    },
    {
     "data": {
      "text/plain": [
       "<catboost.core.CatBoostClassifier at 0x33dc64e50>"
      ]
     },
     "execution_count": 73,
     "metadata": {},
     "output_type": "execute_result"
    }
   ],
   "source": [
    "clf = CatBoostClassifier(\n",
    "    iterations=200,\n",
    "    cat_features=COLS_TO_USE,\n",
    ")\n",
    "\n",
    "clf.fit(X_train, y_train['target'], verbose=50, eval_set=(X_val, y_val[\"target\"]))"
   ]
  },
  {
   "cell_type": "code",
   "execution_count": 74,
   "id": "92a40f0a",
   "metadata": {},
   "outputs": [],
   "source": [
    "preds = clf.predict(X_val)\n",
    "preds = pd.DataFrame(preds, columns=['predict'])\n",
    "preds['user_id'] = y_val['user_id'].values"
   ]
  },
  {
   "cell_type": "code",
   "execution_count": 75,
   "id": "b59464b3",
   "metadata": {},
   "outputs": [
    {
     "data": {
      "image/png": "[encoded data removed]",
      "text/plain": [
       "<Figure size 640x480 with 1 Axes>"
      ]
     },
     "metadata": {},
     "output_type": "display_data"
    }
   ],
   "source": [
    "from sklearn.calibration import calibration_curve\n",
    "y_prob = clf.predict_proba(X_test)[:, 1]\n",
    "prob_true, prob_pred = calibration_curve(y_test['target'].values, y_prob, n_bins=10)\n",
    "plt.plot(prob_pred, prob_true, marker='o', label='Модель')\n",
    "plt.plot([0, 1], [0, 1], linestyle='--', label='Идеально калиброванная')\n",
    "plt.xlabel('Предсказанные вероятности')\n",
    "plt.ylabel('Фактические доли положительных классов')\n",
    "plt.legend()\n",
    "plt.show()"
   ]
  },
  {
   "cell_type": "code",
   "execution_count": 76,
   "id": "6ef1e61d",
   "metadata": {},
   "outputs": [],
   "source": [
    "user_mode_pred = preds.groupby('user_id')['predict'].apply(pd.Series.mode).reset_index()"
   ]
  },
  {
   "cell_type": "code",
   "execution_count": 78,
   "id": "72681e80",
   "metadata": {},
   "outputs": [],
   "source": [
    "user_label = train_labels.set_index('user_id').loc[user_mode_pred['user_id'].values]"
   ]
  },
  {
   "cell_type": "code",
   "execution_count": 80,
   "id": "fdc02171",
   "metadata": {},
   "outputs": [
    {
     "name": "stdout",
     "output_type": "stream",
     "text": [
      "              precision    recall  f1-score   support\n",
      "\n",
      "           0       0.84      0.85      0.85     27095\n",
      "           1       0.83      0.83      0.83     24765\n",
      "\n",
      "    accuracy                           0.84     51860\n",
      "   macro avg       0.84      0.84      0.84     51860\n",
      "weighted avg       0.84      0.84      0.84     51860\n",
      "\n"
     ]
    }
   ],
   "source": [
    "from sklearn.metrics import accuracy_score, classification_report\n",
    "print(classification_report(user_label['target'], user_mode_pred['predict']))"
   ]
  },
  {
   "cell_type": "code",
   "execution_count": null,
   "id": "f4484e74",
   "metadata": {},
   "outputs": [],
   "source": []
  },
  {
   "cell_type": "code",
   "execution_count": 86,
   "id": "b2381638",
   "metadata": {},
   "outputs": [],
   "source": [
    "test = pd.read_csv(r'./data/test.csv', sep=';')\n",
    "test['user_agent'] = test['user_agent'].apply(ast.literal_eval)\n",
    "test['domain'] = test['referer'].str.extract(r'https://([^/]+)')\n",
    "test['path'] = test['referer'].str.extract(r'https://[^/]+/(.*)')\n",
    "test['browser'] = test['user_agent'].str.get('browser')\n",
    "test['browser_version'] = test['user_agent'].str.get('browser_version')\n",
    "test['os'] = test['user_agent'].str.get('os')\n",
    "test['os_version'] = test['user_agent'].str.get('os_version')"
   ]
  },
  {
   "cell_type": "code",
   "execution_count": 87,
   "id": "e5bb0b7a",
   "metadata": {},
   "outputs": [],
   "source": [
    "test = test.merge(\n",
    "    referer_vectors_no_dupl.drop('referer', axis=1),\n",
    "    on=['domain', 'path'],\n",
    "    how='left'\n",
    ")\n",
    "\n",
    "test = test.merge(\n",
    "    geo_info,\n",
    "    on=['geo_id'],\n",
    "    how='left'\n",
    ")\n",
    "\n",
    "test = test.merge(\n",
    "    train_labels,\n",
    "    on='user_id',\n",
    ")\n",
    "\n",
    "#test.fillna('', inplace=True)"
   ]
  },
  {
   "cell_type": "code",
   "execution_count": 89,
   "id": "44676e6f",
   "metadata": {},
   "outputs": [
    {
     "data": {
      "text/plain": [
       "request_ts           0\n",
       "user_id              0\n",
       "referer              0\n",
       "geo_id               0\n",
       "user_agent           0\n",
       "domain               0\n",
       "path                 0\n",
       "browser              0\n",
       "browser_version      0\n",
       "os                   0\n",
       "os_version           0\n",
       "component0           0\n",
       "component1           0\n",
       "component2           0\n",
       "component3           0\n",
       "component4           0\n",
       "component5           0\n",
       "component6           0\n",
       "component7           0\n",
       "component8           0\n",
       "component9           0\n",
       "country_id           0\n",
       "region_id          768\n",
       "timezone_id          0\n",
       "target               0\n",
       "dtype: int64"
      ]
     },
     "execution_count": 89,
     "metadata": {},
     "output_type": "execute_result"
    }
   ],
   "source": [
    "test.isna().sum()"
   ]
  },
  {
   "cell_type": "code",
   "execution_count": null,
   "id": "dc8e4380",
   "metadata": {},
   "outputs": [],
   "source": []
  }
 ],
 "metadata": {
  "kernelspec": {
   "display_name": "Python 3 (ipykernel)",
   "language": "python",
   "name": "python3"
  },
  "language_info": {
   "codemirror_mode": {
    "name": "ipython",
    "version": 3
   },
   "file_extension": ".py",
   "mimetype": "text/x-python",
   "name": "python",
   "nbconvert_exporter": "python",
   "pygments_lexer": "ipython3",
   "version": "3.9.13"
  },
  "toc": {
   "base_numbering": 1,
   "nav_menu": {},
   "number_sections": true,
   "sideBar": true,
   "skip_h1_title": false,
   "title_cell": "Table of Contents",
   "title_sidebar": "Contents",
   "toc_cell": false,
   "toc_position": {},
   "toc_section_display": true,
   "toc_window_display": false
  }
 },
 "nbformat": 4,
 "nbformat_minor": 5
}
